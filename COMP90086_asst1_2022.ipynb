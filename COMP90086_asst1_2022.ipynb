{
 "cells": [
  {
   "cell_type": "markdown",
   "metadata": {},
   "source": [
    "## The University of Melbourne, School of Computing and Information Systems\n",
    "# COMP90086 Computer Vision, 2022 Semester 2\n",
    "\n",
    "## Assignment 1"
   ]
  },
  {
   "cell_type": "markdown",
   "metadata": {},
   "source": [
    "**Student Name:**    Ziyang Huang\n",
    "\n",
    "**Student ID:**     1067800"
   ]
  },
  {
   "cell_type": "markdown",
   "metadata": {},
   "source": [
    "This iPython notebook is a template which you should use for your Assignment 1 submission. This file should be submitted at the **Assignment 1** link on the LMS, along with any images needed to run your code.\n",
    "\n",
    "In addition to this file, you should submit a written report explaining your results at the **Assignment 1** link on the LMS. Please see the assignment specification for details on what must be included in the report for each question.\n",
    "\n",
    "*Adding proper comments to your code is MANDATORY.*"
   ]
  },
  {
   "cell_type": "markdown",
   "metadata": {},
   "source": [
    "### 1. Mapping between world and image coordinates\n",
    "Note: Writing code for this question is optional. However, if you do not include code here you *must* show your computation steps in your written report."
   ]
  },
  {
   "cell_type": "code",
   "execution_count": null,
   "metadata": {},
   "outputs": [],
   "source": []
  },
  {
   "cell_type": "markdown",
   "metadata": {},
   "source": [
    "### 2. Thinking with filters"
   ]
  },
  {
   "cell_type": "code",
   "execution_count": 151,
   "metadata": {},
   "outputs": [],
   "source": [
    "import os\n",
    "import numpy as np\n",
    "import cv2\n",
    "from matplotlib import pyplot as plt\n",
    "import pandas as pd"
   ]
  },
  {
   "cell_type": "code",
   "execution_count": 152,
   "metadata": {},
   "outputs": [],
   "source": [
    "#read in an image from a filepath.\n",
    "rootpath = './COMP90086_asst1_2022_images/'\n",
    "img1 = cv2.imread(os.path.join(rootpath, \"Asst1_2_maze1.png\"),0)\n",
    "img2 = cv2.imread(os.path.join(rootpath, \"Asst1_2_maze2.png\"),0)"
   ]
  },
  {
   "cell_type": "code",
   "execution_count": 155,
   "metadata": {
    "scrolled": true
   },
   "outputs": [
    {
     "name": "stdout",
     "output_type": "stream",
     "text": [
      "-----Maze 1-----\n",
      "Number of intersections: 87\n",
      "Number of dead ends: 98\n",
      "-----Maze 2-----\n",
      "Number of intersections: 71\n",
      "Number of dead ends: 74\n"
     ]
    }
   ],
   "source": [
    "# Kernels to detect intersections\n",
    "kernel_intersection = np.array([[1/255,2/255,2/255,1/255], [2/255,1,1,2/255], [2/255,1,1,2/255], [1/255,2/255,2/255,1/255]])\n",
    "\n",
    "# Kernels to detect dead ends\n",
    "kernel_end = np.array([[0,1/255,1/255,0], [1/255,1,1,1/255], [1/255,1,1,1/255], [0,1/255,1/255,0]])\n",
    "\n",
    "# Apply the filters\n",
    "out_intersection1 = cv2.filter2D(img1,-1,kernel_intersection)\n",
    "out_intersection2 = cv2.filter2D(img2,-1,kernel_intersection)\n",
    "\n",
    "out_end1 = cv2.filter2D(img1,-1,kernel_end)\n",
    "out_end2 = cv2.filter2D(img2,-1,kernel_end)\n",
    "\n",
    "# Calculate the number of intersections\n",
    "# 4 is for cross intersections and 8 is for other intersections\n",
    "intersections1 = np.sum(out_intersection1 == 4) + np.sum(out_intersection1 == 8)\n",
    "intersections2 = np.sum(out_intersection2 == 4) + np.sum(out_intersection2 == 8)\n",
    "\n",
    "# Calculate the number of dead ends\n",
    "dead_ends1 = np.sum(out_end1 == 6)\n",
    "dead_ends2 = np.sum(out_end2 == 6)\n",
    "\n",
    "\n",
    "print('-----Maze 1-----')\n",
    "print('Number of intersections:', intersections1)\n",
    "print('Number of dead ends:', dead_ends1)\n",
    "print('-----Maze 2-----')\n",
    "print('Number of intersections:', intersections2)\n",
    "print('Number of dead ends:', dead_ends2)"
   ]
  },
  {
   "cell_type": "markdown",
   "metadata": {},
   "source": [
    "Using multiple kernels"
   ]
  },
  {
   "cell_type": "code",
   "execution_count": 154,
   "metadata": {},
   "outputs": [],
   "source": [
    "# kernel_cross =  np.array([[0,1,1,0], [1,1,1,1], [1,1,1,1], [0,1,1,0]])\n",
    "# kernel_down_T = np.array([[0,0,0,0], [1,1,1,1], [1,1,1,1], [0,1,1,0]])\n",
    "# kernel_up_T = np.array([[0,1,1,0], [1,1,1,1], [1,1,1,1], [0,0,0,0]])\n",
    "# kernel_left_T = np.array([[0,1,1,0], [1,1,1,0], [1,1,1,0], [0,1,1,0]])\n",
    "# kernel_right_T = np.array([[0,1,1,0], [0,1,1,1], [0,1,1,1], [0,1,1,0]])\n",
    "\n",
    "\n",
    "# kernel_down_end = np.array([[1/255,1/255,1/255,1/255], [1/255,1,1,1/255], [1/255,1,1,1/255], [1/255,1,1,1/255]])\n",
    "# kernel_up_end = np.array([[1/255,1,1,1/255], [1/255,1,1,1/255], [1/255,1,1,1/255], [1/255,1/255,1/255,1/255]])\n",
    "# kernel_left_end = np.array([[1/255,1/255,1/255,1/255], [1,1,1,1/255], [1,1,1,1/255], [1/255,1/255,1/255,1/255]])\n",
    "# kernel_right_end = np.array([[1/255,1/255,1/255,1/255], [1/255,1,1,1], [1/255,1,1,1], [1/255,1/255,1/255,1/255]])\n",
    "\n",
    "\n",
    "# out_cross = cv2.filter2D(img1,-1,kernel_cross)\n",
    "# out_down_T = cv2.filter2D(img1,-1,kernel_down_T)\n",
    "# out_up_T = cv2.filter2D(img1,-1,kernel_up_T)\n",
    "# out_left_T = cv2.filter2D(img1,-1,kernel_left_T)\n",
    "# out_right_T = cv2.filter2D(img1,-1,kernel_right_T)\n",
    "\n",
    "# out_down_end = cv2.filter2D(img1,-1,kernel_down_end)\n",
    "# out_up_end = cv2.filter2D(img1,-1,kernel_up_end)\n",
    "# out_left_end = cv2.filter2D(img1,-1,kernel_left_end)\n",
    "# out_right_end = cv2.filter2D(img1,-1,kernel_right_end)\n",
    "\n",
    "# cross = np.sum(out_cross == 0)\n",
    "# down = np.sum(out_down_T == 0) - cross # deduct the number of crosses due to over counting\n",
    "# up = np.sum(out_up_T == 0) - cross\n",
    "# left = np.sum(out_left_T == 0) - cross\n",
    "# right = np.sum(out_right_T == 0) - cross\n",
    "# total = down+up+left+right+cross\n",
    "\n",
    "# print('cross:', cross)\n",
    "# print('down:',down)\n",
    "# print('up:',up)\n",
    "# print('left:',left)\n",
    "# print('right:',right)\n",
    "# print('Number of intersections:', total)\n",
    "\n",
    "\n",
    "# down_end = np.sum(out_down_end == 10)\n",
    "# up_end = np.sum(out_up_end == 10)\n",
    "# left_end = np.sum(out_left_end == 10)\n",
    "# right_end = np.sum(out_right_end == 10)\n",
    "# total_end = down_end + up_end + left_end + right_end\n",
    "\n",
    "# print('down:', down_end)\n",
    "# print('up:', up_end)\n",
    "# print('left:', left_end)\n",
    "# print('right:', right_end)\n",
    "# print('Number of dead ends:', total_end)"
   ]
  }
 ],
 "metadata": {
  "kernelspec": {
   "display_name": "Python 3 (ipykernel)",
   "language": "python",
   "name": "python3"
  },
  "language_info": {
   "codemirror_mode": {
    "name": "ipython",
    "version": 3
   },
   "file_extension": ".py",
   "mimetype": "text/x-python",
   "name": "python",
   "nbconvert_exporter": "python",
   "pygments_lexer": "ipython3",
   "version": "3.8.13"
  }
 },
 "nbformat": 4,
 "nbformat_minor": 4
}
